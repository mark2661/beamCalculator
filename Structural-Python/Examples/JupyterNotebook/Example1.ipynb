{
 "cells": [
  {
   "cell_type": "code",
   "execution_count": 70,
   "metadata": {},
   "outputs": [],
   "source": [
    "import MKE as dp\n",
    "import numpy as np\n",
    "import Graphics as gr"
   ]
  },
  {
   "cell_type": "markdown",
   "metadata": {},
   "source": [
    "# Example 1\n",
    "\n",
    "Solution of static problelem obtained from [1]. Problem's values were converted to metric units. The system was broken down to 4 beams and 5 supports. Supports are named \"a\", \"b\",... from left to right, beams are named \"first\", \"second\",.. from left to right. According to [1] the probelm was solved correctly.\n",
    "<img src=\"files/677staticshibbeler.png\" style=\"width: 500px;\"/>"
   ]
  },
  {
   "cell_type": "code",
   "execution_count": 57,
   "metadata": {},
   "outputs": [],
   "source": [
    "#In this cell we define all supports and beams included in the problem\n",
    "\n",
    "a = dp.Support(\"a\", 'fixed', 0, 0)\n",
    "b = dp.Support(\"b\", 'endpoint', 1.22, 0)\n",
    "c = dp.Support(\"c\", \"joint\", 2.44, 0)\n",
    "d = dp.Support(\"d\", \"endpoint\", 4.88, 0)\n",
    "e = dp.Support(\"e\", \"roller\", 6.12, 0)\n",
    "\n",
    "first = dp.Beam('first', [a,], [b,],  0.006, 200e6, 0.01, 8000, 30, 0)\n",
    "second = dp.Beam('second', [b,], [c,],  0.006, 200e6, 0.01, 8000, 30, 0)\n",
    "third = dp.Beam('third', [c,], [d,],  0.006, 200e6, 0.01, 8000, 30, 0)\n",
    "forth = dp.Beam('forth', [d,], [e,],  0.006, 200e6, 0.01, 8000, 30, 0)"
   ]
  },
  {
   "cell_type": "code",
   "execution_count": 58,
   "metadata": {},
   "outputs": [
    {
     "data": {
      "text/plain": [
       "1.2400000000000002"
      ]
     },
     "execution_count": 58,
     "metadata": {},
     "output_type": "execute_result"
    }
   ],
   "source": [
    "forth.L"
   ]
  },
  {
   "cell_type": "code",
   "execution_count": 59,
   "metadata": {},
   "outputs": [],
   "source": [
    "#In this cell we define the matrices for solving main differential equations of individual beams\n",
    "\n",
    "first.transformation_matrix()\n",
    "first.form_elements()\n",
    "first.form_M()\n",
    "first.form_K()\n",
    "\n",
    "second.transformation_matrix()\n",
    "second.form_elements()\n",
    "second.form_M()\n",
    "second.form_K()\n",
    "\n",
    "third.transformation_matrix()\n",
    "third.form_elements()\n",
    "third.form_M()\n",
    "third.form_K()\n",
    "\n",
    "forth.transformation_matrix()\n",
    "forth.form_elements()\n",
    "forth.form_M()\n",
    "forth.form_K()"
   ]
  },
  {
   "cell_type": "code",
   "execution_count": 60,
   "metadata": {
    "collapsed": true
   },
   "outputs": [],
   "source": [
    "#In this cell we define point loads\n",
    "\n",
    "b.set_boundryforces(0, 0, 0, -846, 2031, 0)\n",
    "d.set_boundryforces(0, 0, 0, 445, 770, 0)\n",
    "e.set_boundryforces(0, 0, 0, 0, 0, -5423)\n"
   ]
  },
  {
   "cell_type": "code",
   "execution_count": 61,
   "metadata": {},
   "outputs": [],
   "source": [
    "#Assemble equations\n",
    "\n",
    "M, b1, Naming, M_ = dp.form_mainMatrix((first, second, third, forth), \n",
    "                                       (a, b, c, d, e), dynamic=True)\n",
    "            "
   ]
  },
  {
   "cell_type": "code",
   "execution_count": 62,
   "metadata": {},
   "outputs": [],
   "source": [
    "#Perform calculčations\n",
    "\n",
    "r = np.linalg.solve(M, b1)\n",
    "R, Naming_new = dp.resoults_parsing((first, second, third, forth), \n",
    "                                       (a, b, c, d, e), r, Naming)\n",
    "\n",
    "NF, eigenvectors = dp.natural_frequencies(M_, M)\n",
    "NF = np.sort(NF)\n",
    "NF[:5]\n",
    "\n",
    "first.calculate_forces(R[0])\n",
    "second.calculate_forces(R[1])\n",
    "third.calculate_forces(R[2])\n",
    "forth.calculate_forces(R[3])"
   ]
  },
  {
   "cell_type": "code",
   "execution_count": 67,
   "metadata": {},
   "outputs": [
    {
     "name": "stdout",
     "output_type": "stream",
     "text": [
      "===============================================\n",
      "L           Loading   \n",
      "u           Axial deformation\n",
      "w           Deflection\n",
      "N           Tension   \n",
      "T           Shear     \n",
      "M           Bending Moment\n",
      "TAB         Legend    \n",
      "ESC         Quit graphical\n",
      "===============================================\n",
      "1\n",
      "1\n",
      "1.41421356237\n",
      "50\n",
      "300\n",
      "200\n",
      "335\n",
      "235\n",
      "0\n",
      "0\n",
      "1\n",
      "1\n",
      "1.41421356237\n",
      "50\n",
      "300\n",
      "200\n",
      "335\n",
      "235\n",
      "0\n",
      "0\n",
      "1\n",
      "1\n",
      "1.41421356237\n",
      "50\n",
      "300\n",
      "200\n",
      "335\n",
      "235\n",
      "0\n",
      "0\n",
      "KONEC\n"
     ]
    }
   ],
   "source": [
    "beams = (first, second, third, forth)\n",
    "supports = (a, b, c, d, e)\n",
    "\n",
    "def info():\n",
    "    print(\"===============================================\")\n",
    "    print('{0:10}  {1:10}'.format(\"L\", \"Loading\"))\n",
    "    print('{0:10}  {1:10}'.format(\"u\", \"Axial deformation\"))\n",
    "    print('{0:10}  {1:10}'.format(\"w\", \"Deflection\"))\n",
    "    print('{0:10}  {1:10}'.format(\"N\", \"Tension\"))\n",
    "    print('{0:10}  {1:10}'.format(\"T\", \"Shear\"))\n",
    "    print('{0:10}  {1:10}'.format(\"M\", \"Bending Moment\"))\n",
    "    print('{0:10}  {1:10}'.format(\"TAB\", \"Legend\"))\n",
    "    print('{0:10}  {1:10}'.format(\"ESC\", \"Quit graphical\"))\n",
    "    print(\"===============================================\")\n",
    "\n",
    "info()\n",
    "\n",
    "def draw1():\n",
    "    global draw\n",
    "    draw = gr.Drawing()\n",
    "    draw.scaling(beams)\n",
    "    for beam_ in beams:\n",
    "        draw.draw_beam(beam_)\n",
    "    for sup_ in supports:\n",
    "        draw.draw_support(sup_)\n",
    "\n",
    "u_, w_, N_, T_, M_, q_, n_ = [], [], [], [], [], [], []\n",
    "\n",
    "for beam in (first, second, third, forth):\n",
    "    u_ = np.hstack((u_, beam.u))\n",
    "    w_ = np.hstack((w_, beam.w))\n",
    "    q_ = np.hstack((q_, np.array(beam.q_).flatten()))\n",
    "    n_ = np.hstack((n_, np.array(beam.n_).flatten()))\n",
    "    try:\n",
    "        N_ = np.hstack((N_, beam.N))\n",
    "        T_ = np.hstack((T_, beam.T))\n",
    "        M_ = np.hstack((M_, beam.M))\n",
    "    except:\n",
    "        pass\n",
    "u_ = np.hstack((u_, 0))\n",
    "w_ = np.hstack((w_, 0))\n",
    "n_ = np.hstack((n_, 0))\n",
    "q_ = np.hstack((q_, 0))\n",
    "N_ = np.hstack((N_, 0))\n",
    "T_ = np.hstack((T_, 0))\n",
    "M_ = np.hstack((M_, 0))\n",
    "\n",
    "size_u = max(u_) - min(u_)\n",
    "size_w = max(w_) - min(w_)\n",
    "size_n = max(n_) - min(n_)\n",
    "size_q = max(q_) - min(q_)\n",
    "size_N = max(N_) - min(N_)\n",
    "size_T = max(T_) - min(T_)\n",
    "size_M = max(M_) - min(M_)\n",
    "\n",
    "F_ = []\n",
    "for sup in (supports):\n",
    "    F_.append(np.sqrt(sup.Fx**2 + sup.Fy**2))\n",
    "    F_.append(0)\n",
    "\n",
    "size_F = max(F_) - min(F_)\n",
    "\n",
    "draw1()\n",
    "u, w, T, N, M, l, Legend = False, False, False, False, False, False, False\n",
    "running = True\n",
    "while running:\n",
    "    for event in gr.pygame.event.get():\n",
    "        if event.type == gr.pygame.QUIT or event.type == gr.pygame.KEYDOWN and event.key == gr.pygame.K_ESCAPE:\n",
    "            running = False\n",
    "            print(\"KONEC\")\n",
    "        if event.type == gr.pygame.KEYDOWN:\n",
    "            if event.type == gr.pygame.KEYDOWN and event.key == gr.pygame.K_s:\n",
    "                gr.pygame.image.save(draw.screen, \"Structural_analysis.jpg\")\n",
    "            if event.type == gr.pygame.KEYDOWN and event.key == gr.pygame.K_u:\n",
    "                u = ~u\n",
    "\n",
    "            if event.type == gr.pygame.KEYDOWN and event.key == gr.pygame.K_l:\n",
    "                l = ~l\n",
    "\n",
    "            if event.type == gr.pygame.KEYDOWN and event.key == gr.pygame.K_w:\n",
    "                w = ~w\n",
    "\n",
    "            if event.type == gr.pygame.KEYDOWN and event.key == gr.pygame.K_t:\n",
    "                T = ~T\n",
    "\n",
    "            if event.type == gr.pygame.KEYDOWN and event.key == gr.pygame.K_n:\n",
    "                N = ~N\n",
    "\n",
    "            if event.type == gr.pygame.KEYDOWN and event.key == gr.pygame.K_m:\n",
    "                M = ~M\n",
    "            if event.type == gr.pygame.KEYDOWN and event.key == gr.pygame.K_TAB:\n",
    "                Legend = ~Legend\n",
    "\n",
    "            draw1()\n",
    "\n",
    "            if l:\n",
    "                for beam in beams:\n",
    "                    if size_q:\n",
    "                        size = (max(np.hstack((beam.q_, 0))) - min(np.hstack((beam.q_, 0)))) / size_q * 100\n",
    "                        draw.draw_loading(beam.q_, beam, 1, draw.RED, draw_size=size)\n",
    "                    if size_n:\n",
    "                        size = (max(beam.n_) - min(beam.n_)) / size_n * 100\n",
    "                        draw.draw_loading(beam.n_, beam, -1, draw.BLACK, draw_size=size)\n",
    "\n",
    "                for sup in supports:\n",
    "                    print(size_F)\n",
    "                    if size_F:\n",
    "                        size = (sup.Fx**2 + sup.Fy**2)/size_F**2\n",
    "                    else:\n",
    "                        size = 0\n",
    "                    draw.draw_boundryloading(sup, size*100, 20)\n",
    "\n",
    "            if u:\n",
    "                for beam in beams:\n",
    "                    size = (max(np.hstack((beam.u, 0))) - min(np.hstack((beam.u, 0))))/size_u * 100\n",
    "                    draw.draw_loading(beam.u, beam, 1, draw.BLUE, draw_size = size)\n",
    "            if w:\n",
    "                for beam in beams:\n",
    "                    size = (max(np.hstack((beam.w, 0))) - min(np.hstack((beam.w, 0))))/size_w * 100\n",
    "                    draw.draw_loading(beam.w, beam, -1, draw.GREEN, draw_size = size)\n",
    "            if N:\n",
    "                for beam in beams:\n",
    "                    size = (max(np.hstack((beam.N, 0))) - min(np.hstack((beam.N, 0))))/size_N * 100\n",
    "                    draw.draw_loading(beam.N, beam, 1, draw.DARKOLIVEGREEN, draw_size = size)\n",
    "            if T:\n",
    "                for beam in beams:\n",
    "                    size = (max(np.hstack((beam.T, 0))) - min(np.hstack((beam.T, 0))))/size_T * 100\n",
    "                    draw.draw_loading(beam.T, beam, -1, draw.LBLUE, draw_size = size)\n",
    "            if M:\n",
    "                for beam in beams:\n",
    "                    size = (max(np.hstack((beam.M, 0))) - min(np.hstack((beam.M, 0))))/size_M * 100\n",
    "                    draw.draw_loading(beam.M, beam, 1, draw.PURPLE, draw_size = size)\n",
    "            if Legend:\n",
    "                draw.legend()\n",
    "        gr.pygame.display.update()"
   ]
  },
  {
   "cell_type": "code",
   "execution_count": null,
   "metadata": {
    "collapsed": true
   },
   "outputs": [],
   "source": []
  },
  {
   "cell_type": "code",
   "execution_count": null,
   "metadata": {
    "collapsed": true
   },
   "outputs": [],
   "source": []
  },
  {
   "cell_type": "code",
   "execution_count": null,
   "metadata": {
    "collapsed": true
   },
   "outputs": [],
   "source": []
  },
  {
   "cell_type": "code",
   "execution_count": null,
   "metadata": {
    "collapsed": true
   },
   "outputs": [],
   "source": []
  },
  {
   "cell_type": "code",
   "execution_count": null,
   "metadata": {
    "collapsed": true
   },
   "outputs": [],
   "source": []
  },
  {
   "cell_type": "code",
   "execution_count": null,
   "metadata": {
    "collapsed": true
   },
   "outputs": [],
   "source": []
  },
  {
   "cell_type": "code",
   "execution_count": null,
   "metadata": {
    "collapsed": true
   },
   "outputs": [],
   "source": []
  },
  {
   "cell_type": "code",
   "execution_count": null,
   "metadata": {
    "collapsed": true
   },
   "outputs": [],
   "source": []
  },
  {
   "cell_type": "code",
   "execution_count": null,
   "metadata": {
    "collapsed": true
   },
   "outputs": [],
   "source": []
  },
  {
   "cell_type": "code",
   "execution_count": null,
   "metadata": {
    "collapsed": true
   },
   "outputs": [],
   "source": []
  },
  {
   "cell_type": "code",
   "execution_count": null,
   "metadata": {
    "collapsed": true
   },
   "outputs": [],
   "source": []
  },
  {
   "cell_type": "code",
   "execution_count": null,
   "metadata": {
    "collapsed": true
   },
   "outputs": [],
   "source": []
  },
  {
   "cell_type": "code",
   "execution_count": 55,
   "metadata": {},
   "outputs": [
    {
     "data": {
      "text/plain": [
       "array([  39.45152827,   40.58293788,  120.12577211,  121.75596774,\n",
       "        202.96314971])"
      ]
     },
     "execution_count": 55,
     "metadata": {},
     "output_type": "execute_result"
    }
   ],
   "source": [
    "NF[:5]"
   ]
  },
  {
   "cell_type": "code",
   "execution_count": null,
   "metadata": {
    "collapsed": true
   },
   "outputs": [],
   "source": []
  },
  {
   "cell_type": "code",
   "execution_count": null,
   "metadata": {
    "collapsed": true
   },
   "outputs": [],
   "source": []
  },
  {
   "cell_type": "code",
   "execution_count": null,
   "metadata": {
    "collapsed": true
   },
   "outputs": [],
   "source": []
  },
  {
   "cell_type": "code",
   "execution_count": null,
   "metadata": {
    "collapsed": true
   },
   "outputs": [],
   "source": []
  },
  {
   "cell_type": "code",
   "execution_count": null,
   "metadata": {
    "collapsed": true
   },
   "outputs": [],
   "source": []
  },
  {
   "cell_type": "code",
   "execution_count": null,
   "metadata": {
    "collapsed": true
   },
   "outputs": [],
   "source": []
  },
  {
   "cell_type": "code",
   "execution_count": 40,
   "metadata": {},
   "outputs": [
    {
     "data": {
      "text/plain": [
       "[array([ 0.,  0.,  0.]),\n",
       " array([ 0.,  0.,  0.]),\n",
       " array([ 0.,  0.,  0.]),\n",
       " array([ 0.,  0.,  0.])]"
      ]
     },
     "execution_count": 40,
     "metadata": {},
     "output_type": "execute_result"
    }
   ],
   "source": [
    "R"
   ]
  },
  {
   "cell_type": "code",
   "execution_count": null,
   "metadata": {
    "collapsed": true
   },
   "outputs": [],
   "source": []
  },
  {
   "cell_type": "code",
   "execution_count": null,
   "metadata": {
    "collapsed": true
   },
   "outputs": [],
   "source": []
  },
  {
   "cell_type": "code",
   "execution_count": null,
   "metadata": {
    "collapsed": true
   },
   "outputs": [],
   "source": []
  },
  {
   "cell_type": "code",
   "execution_count": null,
   "metadata": {
    "collapsed": true
   },
   "outputs": [],
   "source": []
  },
  {
   "cell_type": "code",
   "execution_count": null,
   "metadata": {
    "collapsed": true
   },
   "outputs": [],
   "source": []
  },
  {
   "cell_type": "code",
   "execution_count": null,
   "metadata": {
    "collapsed": true
   },
   "outputs": [],
   "source": []
  },
  {
   "cell_type": "code",
   "execution_count": null,
   "metadata": {
    "collapsed": true
   },
   "outputs": [],
   "source": []
  },
  {
   "cell_type": "code",
   "execution_count": 21,
   "metadata": {
    "collapsed": true
   },
   "outputs": [],
   "source": [
    "#In this cell we define transformation matrices used for transforming variables from local coordinate systems of individual beam to global coordinate system\n",
    "\n",
    "first.transformation_matrix()\n",
    "second.transformation_matrix()\n",
    "third.transformation_matrix()\n",
    "forth.transformation_matrix()"
   ]
  },
  {
   "cell_type": "code",
   "execution_count": 22,
   "metadata": {},
   "outputs": [
    {
     "ename": "AttributeError",
     "evalue": "'Beam' object has no attribute 'set_boundry_1'",
     "output_type": "error",
     "traceback": [
      "\u001b[1;31m---------------------------------------------------------------------------\u001b[0m",
      "\u001b[1;31mAttributeError\u001b[0m                            Traceback (most recent call last)",
      "\u001b[1;32m<ipython-input-22-9c3c0b7f03e3>\u001b[0m in \u001b[0;36m<module>\u001b[1;34m()\u001b[0m\n\u001b[0;32m      1\u001b[0m \u001b[1;31m#in this cell we define all boundry equations hat may be needed for individual beam and support\u001b[0m\u001b[1;33m\u001b[0m\u001b[1;33m\u001b[0m\u001b[0m\n\u001b[0;32m      2\u001b[0m \u001b[1;33m\u001b[0m\u001b[0m\n\u001b[1;32m----> 3\u001b[1;33m \u001b[0mfirst\u001b[0m\u001b[1;33m.\u001b[0m\u001b[0mset_boundry_1\u001b[0m\u001b[1;33m(\u001b[0m\u001b[1;33m)\u001b[0m\u001b[1;33m\u001b[0m\u001b[0m\n\u001b[0m\u001b[0;32m      4\u001b[0m \u001b[0mfirst\u001b[0m\u001b[1;33m.\u001b[0m\u001b[0mset_boundry_2\u001b[0m\u001b[1;33m(\u001b[0m\u001b[1;33m)\u001b[0m\u001b[1;33m\u001b[0m\u001b[0m\n\u001b[0;32m      5\u001b[0m \u001b[0msecond\u001b[0m\u001b[1;33m.\u001b[0m\u001b[0mset_boundry_1\u001b[0m\u001b[1;33m(\u001b[0m\u001b[1;33m)\u001b[0m\u001b[1;33m\u001b[0m\u001b[0m\n",
      "\u001b[1;31mAttributeError\u001b[0m: 'Beam' object has no attribute 'set_boundry_1'"
     ]
    }
   ],
   "source": [
    "#in this cell we define all boundry equations hat may be needed for individual beam and support\n",
    "\n",
    "first.set_boundry_1()\n",
    "first.set_boundry_2()\n",
    "second.set_boundry_1()\n",
    "second.set_boundry_2()\n",
    "third.set_boundry_1()\n",
    "third.set_boundry_2()\n",
    "forth.set_boundry_1()\n",
    "forth.set_boundry_2()\n",
    "\n",
    "first.set_boundry_M(first.B_1, a, 1)\n",
    "first.set_boundry_M(first.B_2, b, 2)\n",
    "\n",
    "second.set_boundry_M(second.B_1, b, 1)\n",
    "second.set_boundry_M(second.B_2, c, 2)\n",
    "\n",
    "third.set_boundry_M(third.B_1, c, 1)\n",
    "third.set_boundry_M(third.B_2, d, 2)\n",
    "\n",
    "forth.set_boundry_M(forth.B_1, d, 1)\n",
    "forth.set_boundry_M(forth.B_2, e, 2)"
   ]
  },
  {
   "cell_type": "code",
   "execution_count": 9,
   "metadata": {
    "collapsed": true
   },
   "outputs": [],
   "source": [
    "#In this cell we form final beam matrices\n",
    "\n",
    "first.form_M([a,], [b,])\n",
    "second.form_M([b,], [c,])\n",
    "third.form_M([c,], [d,])\n",
    "forth.form_M([d,], [e,])"
   ]
  },
  {
   "cell_type": "code",
   "execution_count": 10,
   "metadata": {
    "collapsed": true
   },
   "outputs": [],
   "source": [
    "#In this cell we define loading conditions, either forces or moments on supports or continual loading on beams\n",
    "\n",
    "first.set_loading(0, 0)\n",
    "second.set_loading(0, 0)\n",
    "third.set_loading(0, 0)\n",
    "forth.set_loading(0, 0)\n",
    "\n",
    "a.set_boundryforces(0, 0, 0, 0, 0, 0)\n",
    "b.set_boundryforces(0, 0, 0, -846, 2031, 0)\n",
    "c.set_boundryforces(0, 0, 0, 0, 0, 0)\n",
    "d.set_boundryforces(0, 0, 0, 445, 770, 0)\n",
    "e.set_boundryforces(0, 0, 0, 0, 0, -5423)"
   ]
  },
  {
   "cell_type": "code",
   "execution_count": 11,
   "metadata": {},
   "outputs": [
    {
     "name": "stdout",
     "output_type": "stream",
     "text": [
      "[0 0 0 0 0 0]\n",
      "[   0    0 -846 2031    0    0]\n",
      "[   0    0 -846 2031    0    0]\n",
      "[0 0 0 0 0 0]\n",
      "[0 0 0 0 0 0]\n",
      "[  0   0 445 770   0   0]\n",
      "[  0   0 445 770   0   0]\n",
      "[    0     0     0     0 -5423     0]\n"
     ]
    }
   ],
   "source": [
    "#In this cell we form boundry matrices for individual beams\n",
    "\n",
    "first.form_b([a,],  [b,])\n",
    "second.form_b([b,],  [c,])\n",
    "third.form_b([c,],  [d,])\n",
    "forth.form_b([d,],  [e,])"
   ]
  },
  {
   "cell_type": "code",
   "execution_count": 14,
   "metadata": {},
   "outputs": [
    {
     "name": "stdout",
     "output_type": "stream",
     "text": [
      "[{<Structural_analysis.Support object at 0x000001DB2D809FD0>}, {<Structural_analysis.Support object at 0x000001DB2D809F98>}, {<Structural_analysis.Support object at 0x000001DB2D8130B8>}, {<Structural_analysis.Support object at 0x000001DB2D8130F0>}, {<Structural_analysis.Support object at 0x000001DB2D813128>}]\n",
      "asdasdasd\n",
      "b\n",
      "Fx\n",
      "u\n",
      "s\n",
      "sasdasd\n",
      "[3, 209]\n",
      "[5, 211]\n",
      "Fy\n",
      "w\n",
      "s\n",
      "sasdasd\n",
      "[4, 208]\n",
      "[5, 210]\n",
      "M\n",
      "fi\n",
      "s\n",
      "sasdasd\n",
      "[6, 210]\n",
      "[5, 209]\n",
      "asdasdasd\n",
      "c\n",
      "Fx\n",
      "u\n",
      "s\n",
      "sasdasd\n",
      "[209, 415]\n",
      "[211, 417]\n",
      "Fy\n",
      "w\n",
      "s\n",
      "sasdasd\n",
      "[210, 414]\n",
      "[211, 416]\n",
      "fi\n",
      "asdasdasd\n",
      "d\n",
      "Fx\n",
      "u\n",
      "s\n",
      "sasdasd\n",
      "[415, 621]\n",
      "[417, 623]\n",
      "Fy\n",
      "w\n",
      "s\n",
      "sasdasd\n",
      "[416, 620]\n",
      "[417, 622]\n",
      "M\n",
      "fi\n",
      "s\n",
      "sasdasd\n",
      "[418, 622]\n",
      "[417, 621]\n",
      "u\n",
      "[621]\n",
      "[['first' '1' 'a' 'u']\n",
      " ['first' '1' 'a' 'w']\n",
      " ['first' '1' 'a' 'fi']\n",
      " ..., \n",
      " ['forth' None None 197]\n",
      " ['forth' None None 198]\n",
      " ['forth' None None 199]]\n"
     ]
    }
   ],
   "source": [
    "#Forms final matric and vector for calculation, Naming is vector containing information abount individual equation in M\n",
    "M, b1, Naming = dp.main_matrix_formation((first, second, third, forth), (a, b, c, d, e))\n"
   ]
  },
  {
   "cell_type": "code",
   "execution_count": 15,
   "metadata": {
    "collapsed": true
   },
   "outputs": [],
   "source": [
    "#Solving the problem\n",
    "r = np.linalg.solve(M, b1)"
   ]
  },
  {
   "cell_type": "code",
   "execution_count": 16,
   "metadata": {
    "collapsed": true
   },
   "outputs": [],
   "source": [
    "#Resoult parsing and calculating internal forces\n",
    "dp.resoult_parsing(r, first, second, third, forth)\n",
    "\n",
    "first.calculate_NTM()\n",
    "second.calculate_NTM()\n",
    "third.calculate_NTM()\n",
    "forth.calculate_NTM()"
   ]
  },
  {
   "cell_type": "markdown",
   "metadata": {},
   "source": [
    "## Plots for individual beam"
   ]
  },
  {
   "cell_type": "code",
   "execution_count": 17,
   "metadata": {},
   "outputs": [
    {
     "data": {
      "image/png": "[encoded data removed]",
      "text/plain": [
       "<matplotlib.figure.Figure at 0x1db2d8134a8>"
      ]
     },
     "metadata": {},
     "output_type": "display_data"
    },
    {
     "data": {
      "image/png": "[encoded data removed]",
      "text/plain": [
       "<matplotlib.figure.Figure at 0x1db2d89ad68>"
      ]
     },
     "metadata": {},
     "output_type": "display_data"
    },
    {
     "data": {
      "image/png": "[encoded data removed]",
      "text/plain": [
       "<matplotlib.figure.Figure at 0x1db2d8e9e10>"
      ]
     },
     "metadata": {},
     "output_type": "display_data"
    },
    {
     "data": {
      "image/png": "[encoded data removed]",
      "text/plain": [
       "<matplotlib.figure.Figure at 0x1db2d809358>"
      ]
     },
     "metadata": {},
     "output_type": "display_data"
    },
    {
     "data": {
      "image/png": "[encoded data removed]",
      "text/plain": [
       "<matplotlib.figure.Figure at 0x1db2d9625f8>"
      ]
     },
     "metadata": {},
     "output_type": "display_data"
    }
   ],
   "source": [
    "first.drawing()"
   ]
  },
  {
   "cell_type": "code",
   "execution_count": 13,
   "metadata": {},
   "outputs": [
    {
     "data": {
      "image/png": "[encoded data removed]",
      "text/plain": [
       "<Figure size 432x288 with 1 Axes>"
      ]
     },
     "metadata": {},
     "output_type": "display_data"
    },
    {
     "data": {
      "image/png": "[encoded data removed]",
      "text/plain": [
       "<Figure size 432x288 with 1 Axes>"
      ]
     },
     "metadata": {},
     "output_type": "display_data"
    },
    {
     "data": {
      "image/png": "[encoded data removed]",
      "text/plain": [
       "<Figure size 432x288 with 1 Axes>"
      ]
     },
     "metadata": {},
     "output_type": "display_data"
    },
    {
     "data": {
      "image/png": "[encoded data removed]",
      "text/plain": [
       "<Figure size 432x288 with 1 Axes>"
      ]
     },
     "metadata": {},
     "output_type": "display_data"
    },
    {
     "data": {
      "image/png": "[encoded data removed]",
      "text/plain": [
       "<Figure size 432x288 with 1 Axes>"
      ]
     },
     "metadata": {},
     "output_type": "display_data"
    }
   ],
   "source": [
    "second.drawing()"
   ]
  },
  {
   "cell_type": "code",
   "execution_count": 14,
   "metadata": {},
   "outputs": [
    {
     "data": {
      "image/png": "[encoded data removed]",
      "text/plain": [
       "<Figure size 432x288 with 1 Axes>"
      ]
     },
     "metadata": {},
     "output_type": "display_data"
    },
    {
     "data": {
      "image/png": "[encoded data removed]",
      "text/plain": [
       "<Figure size 432x288 with 1 Axes>"
      ]
     },
     "metadata": {},
     "output_type": "display_data"
    },
    {
     "data": {
      "image/png": "[encoded data removed]",
      "text/plain": [
       "<Figure size 432x288 with 1 Axes>"
      ]
     },
     "metadata": {},
     "output_type": "display_data"
    },
    {
     "data": {
      "image/png": "[encoded data removed]",
      "text/plain": [
       "<Figure size 432x288 with 1 Axes>"
      ]
     },
     "metadata": {},
     "output_type": "display_data"
    },
    {
     "data": {
      "image/png": "[encoded data removed]",
      "text/plain": [
       "<Figure size 432x288 with 1 Axes>"
      ]
     },
     "metadata": {},
     "output_type": "display_data"
    }
   ],
   "source": [
    "third.drawing()"
   ]
  },
  {
   "cell_type": "code",
   "execution_count": 15,
   "metadata": {},
   "outputs": [
    {
     "data": {
      "image/png": "[encoded data removed]",
      "text/plain": [
       "<Figure size 432x288 with 1 Axes>"
      ]
     },
     "metadata": {},
     "output_type": "display_data"
    },
    {
     "data": {
      "image/png": "[encoded data removed]",
      "text/plain": [
       "<Figure size 432x288 with 1 Axes>"
      ]
     },
     "metadata": {},
     "output_type": "display_data"
    },
    {
     "data": {
      "image/png": "[encoded data removed]",
      "text/plain": [
       "<Figure size 432x288 with 1 Axes>"
      ]
     },
     "metadata": {},
     "output_type": "display_data"
    },
    {
     "data": {
      "image/png": "[encoded data removed]",
      "text/plain": [
       "<Figure size 432x288 with 1 Axes>"
      ]
     },
     "metadata": {},
     "output_type": "display_data"
    },
    {
     "data": {
      "image/png": "[encoded data removed]",
      "text/plain": [
       "<Figure size 432x288 with 1 Axes>"
      ]
     },
     "metadata": {},
     "output_type": "display_data"
    }
   ],
   "source": [
    "forth.drawing()"
   ]
  },
  {
   "cell_type": "code",
   "execution_count": 16,
   "metadata": {
    "collapsed": true
   },
   "outputs": [],
   "source": [
    "DRAW = dp.Drawing()"
   ]
  },
  {
   "cell_type": "code",
   "execution_count": 17,
   "metadata": {},
   "outputs": [
    {
     "data": {
      "text/plain": [
       "1.22"
      ]
     },
     "execution_count": 17,
     "metadata": {},
     "output_type": "execute_result"
    }
   ],
   "source": [
    "first.supports_2[0].X"
   ]
  },
  {
   "cell_type": "code",
   "execution_count": 18,
   "metadata": {},
   "outputs": [
    {
     "name": "stdout",
     "output_type": "stream",
     "text": [
      "fixed\n",
      "endpoint\n",
      "joint\n",
      "endpoint\n",
      "roller\n"
     ]
    }
   ],
   "source": [
    "DRAW.draw_beam(first)\n",
    "DRAW.draw_beam(second)\n",
    "DRAW.draw_beam(third)\n",
    "DRAW.draw_beam(forth)\n",
    "\n",
    "\n",
    "DRAW.draw_support(a)\n",
    "DRAW.draw_support(b)\n",
    "DRAW.draw_support(c)\n",
    "DRAW.draw_support(d)\n",
    "DRAW.draw_support(e)\n"
   ]
  },
  {
   "cell_type": "markdown",
   "metadata": {
    "collapsed": true
   },
   "source": [
    "### References:\n",
    "[1] Hibbeler, R. C., Statics, 12th edition, page 313"
   ]
  },
  {
   "cell_type": "code",
   "execution_count": null,
   "metadata": {
    "collapsed": true
   },
   "outputs": [],
   "source": []
  },
  {
   "cell_type": "code",
   "execution_count": null,
   "metadata": {
    "collapsed": true
   },
   "outputs": [],
   "source": []
  },
  {
   "cell_type": "code",
   "execution_count": null,
   "metadata": {
    "collapsed": true
   },
   "outputs": [],
   "source": []
  }
 ],
 "metadata": {
  "kernelspec": {
   "display_name": "Python 3",
   "language": "python",
   "name": "python3"
  },
  "language_info": {
   "codemirror_mode": {
    "name": "ipython",
    "version": 3
   },
   "file_extension": ".py",
   "mimetype": "text/x-python",
   "name": "python",
   "nbconvert_exporter": "python",
   "pygments_lexer": "ipython3",
   "version": "3.6.3"
  }
 },
 "nbformat": 4,
 "nbformat_minor": 2
}

{
 "cells": [
  {
   "cell_type": "code",
   "execution_count": 1,
   "metadata": {},
   "outputs": [],
   "source": [
    "import MKE as dp\n",
    "import numpy as np\n",
    "import Graphics as gr"
   ]
  },
  {
   "cell_type": "markdown",
   "metadata": {},
   "source": [
    "# Example 2\n",
    "\n",
    "Solution of static problelem obtained from source [1]. The system was broken down to 3 beams and 4 supports. Supports are named \"a\", \"b\",... from upper left in clokwise, beams are named \"first\", \"second\",.. from upper to bottom. According to [1] the problem was solved correctly.\n",
    "<img src=\"files/678.png\" style=\"width: 500px;\"/>"
   ]
  },
  {
   "cell_type": "code",
   "execution_count": 2,
   "metadata": {},
   "outputs": [],
   "source": [
    "#In this cell we define all supports and beams included in the problem\n",
    "\n",
    "a = dp.Support(\"a\", 'pinned', 0, 0)\n",
    "b = dp.Support(\"b\", 'joint', 3, 0)\n",
    "c = dp.Support(\"c\", \"endpoint\", 3, 3)\n",
    "d = dp.Support(\"d\", \"pinned\", 0, 3)\n",
    "\n",
    "first = dp.Beam('first', [a,], [b,],  0.006, 200e6, 0.01, 8000, 30, 0)\n",
    "second = dp.Beam('second', [b,], [c,],  0.006, 200e6, 0.01, 8000, 30, 0)\n",
    "third = dp.Beam('third', [c,], [d,],  0.006, 200e6, 0.01, 8000, 30, 0)"
   ]
  },
  {
   "cell_type": "code",
   "execution_count": 3,
   "metadata": {},
   "outputs": [],
   "source": [
    "#In this cell we define the matrices for solving main differential equations of individual beams\n",
    "first.set_loading([0., 0.], [200., 200.])\n",
    "\n",
    "\n",
    "first.transformation_matrix()\n",
    "first.form_elements()\n",
    "first.form_M()\n",
    "first.form_K()\n",
    "\n",
    "second.transformation_matrix()\n",
    "second.form_elements()\n",
    "second.form_M()\n",
    "second.form_K()\n",
    "\n",
    "third.transformation_matrix()\n",
    "third.form_elements()\n",
    "third.form_M()\n",
    "third.form_K()\n"
   ]
  },
  {
   "cell_type": "code",
   "execution_count": 4,
   "metadata": {},
   "outputs": [
    {
     "data": {
      "text/plain": [
       "[0.0, 0.0]"
      ]
     },
     "execution_count": 4,
     "metadata": {},
     "output_type": "execute_result"
    }
   ],
   "source": [
    "first.n_"
   ]
  },
  {
   "cell_type": "code",
   "execution_count": 5,
   "metadata": {},
   "outputs": [],
   "source": [
    "#Assemble equations\n",
    "beams = (first, second, third)\n",
    "supports = (a, b, c, d)\n",
    "M, b1, Naming, M_ = dp.form_mainMatrix(beams, \n",
    "                                       supports, dynamic=True)\n",
    "            "
   ]
  },
  {
   "cell_type": "code",
   "execution_count": 6,
   "metadata": {},
   "outputs": [],
   "source": [
    "#Perform calculčations\n",
    "\n",
    "r = np.linalg.solve(M, b1)\n",
    "R, Naming_new = dp.resoults_parsing(beams, \n",
    "                                    supports, r, Naming)\n",
    "\n",
    "NF, eigenvectors = dp.natural_frequencies(M_, M)\n",
    "NF = np.sort(NF)\n",
    "NF[:5]\n",
    "\n",
    "first.calculate_forces(R[0])\n",
    "second.calculate_forces(R[1])\n",
    "third.calculate_forces(R[2])\n"
   ]
  },
  {
   "cell_type": "code",
   "execution_count": 7,
   "metadata": {},
   "outputs": [
    {
     "name": "stdout",
     "output_type": "stream",
     "text": [
      "===============================================\n",
      "L           Loading   \n",
      "u           Axial deformation\n",
      "w           Deflection\n",
      "N           Tension   \n",
      "T           Shear     \n",
      "M           Bending Moment\n",
      "TAB         Legend    \n",
      "ESC         Quit graphical\n",
      "===============================================\n",
      "0.0\n",
      "0.0\n",
      "0.0\n",
      "0.0\n",
      "0.0\n",
      "0.0\n",
      "0.0\n",
      "0.0\n",
      "0.0\n",
      "0.0\n",
      "0.0\n",
      "0.0\n",
      "0.0\n",
      "0.0\n",
      "0.0\n",
      "0.0\n",
      "0.0\n",
      "0.0\n",
      "0.0\n",
      "0.0\n",
      "KONEC\n"
     ]
    }
   ],
   "source": [
    "def info():\n",
    "    print(\"===============================================\")\n",
    "    print('{0:10}  {1:10}'.format(\"L\", \"Loading\"))\n",
    "    print('{0:10}  {1:10}'.format(\"u\", \"Axial deformation\"))\n",
    "    print('{0:10}  {1:10}'.format(\"w\", \"Deflection\"))\n",
    "    print('{0:10}  {1:10}'.format(\"N\", \"Tension\"))\n",
    "    print('{0:10}  {1:10}'.format(\"T\", \"Shear\"))\n",
    "    print('{0:10}  {1:10}'.format(\"M\", \"Bending Moment\"))\n",
    "    print('{0:10}  {1:10}'.format(\"TAB\", \"Legend\"))\n",
    "    print('{0:10}  {1:10}'.format(\"ESC\", \"Quit graphical\"))\n",
    "    print(\"===============================================\")\n",
    "\n",
    "info()\n",
    "\n",
    "def draw1():\n",
    "    global draw\n",
    "    draw = gr.Drawing()\n",
    "    draw.scaling(beams)\n",
    "    for beam_ in beams:\n",
    "        draw.draw_beam(beam_)\n",
    "    for sup_ in supports:\n",
    "        draw.draw_support(sup_)\n",
    "\n",
    "u_, w_, N_, T_, M_, q_, n_ = [], [], [], [], [], [], []\n",
    "\n",
    "for beam in beams:\n",
    "    u_ = np.hstack((u_, beam.u))\n",
    "    w_ = np.hstack((w_, beam.w))\n",
    "    q_ = np.hstack((q_, np.array(beam.q_).flatten()))\n",
    "    n_ = np.hstack((n_, np.array(beam.n_).flatten()))\n",
    "    try:\n",
    "        N_ = np.hstack((N_, beam.N))\n",
    "        T_ = np.hstack((T_, beam.T))\n",
    "        M_ = np.hstack((M_, beam.M))\n",
    "    except:\n",
    "        pass\n",
    "u_ = np.hstack((u_, 0))\n",
    "w_ = np.hstack((w_, 0))\n",
    "n_ = np.hstack((n_, 0))\n",
    "q_ = np.hstack((q_, 0))\n",
    "N_ = np.hstack((N_, 0))\n",
    "T_ = np.hstack((T_, 0))\n",
    "M_ = np.hstack((M_, 0))\n",
    "\n",
    "size_u = max(u_) - min(u_)\n",
    "size_w = max(w_) - min(w_)\n",
    "size_n = max(n_) - min(n_)\n",
    "size_q = max(q_) - min(q_)\n",
    "size_N = max(N_) - min(N_)\n",
    "size_T = max(T_) - min(T_)\n",
    "size_M = max(M_) - min(M_)\n",
    "\n",
    "F_ = []\n",
    "for sup in (supports):\n",
    "    F_.append(np.sqrt(sup.Fx**2 + sup.Fy**2))\n",
    "    F_.append(0)\n",
    "\n",
    "size_F = max(F_) - min(F_)\n",
    "\n",
    "draw1()\n",
    "u, w, T, N, M, l, Legend = False, False, False, False, False, False, False\n",
    "running = True\n",
    "while running:\n",
    "    for event in gr.pygame.event.get():\n",
    "        if event.type == gr.pygame.QUIT or event.type == gr.pygame.KEYDOWN and event.key == gr.pygame.K_ESCAPE:\n",
    "            running = False\n",
    "            print(\"KONEC\")\n",
    "        if event.type == gr.pygame.KEYDOWN:\n",
    "            if event.type == gr.pygame.KEYDOWN and event.key == gr.pygame.K_s:\n",
    "                gr.pygame.image.save(draw.screen, \"Structural_analysis.jpg\")\n",
    "            if event.type == gr.pygame.KEYDOWN and event.key == gr.pygame.K_u:\n",
    "                u = ~u\n",
    "\n",
    "            if event.type == gr.pygame.KEYDOWN and event.key == gr.pygame.K_l:\n",
    "                l = ~l\n",
    "\n",
    "            if event.type == gr.pygame.KEYDOWN and event.key == gr.pygame.K_w:\n",
    "                w = ~w\n",
    "\n",
    "            if event.type == gr.pygame.KEYDOWN and event.key == gr.pygame.K_t:\n",
    "                T = ~T\n",
    "\n",
    "            if event.type == gr.pygame.KEYDOWN and event.key == gr.pygame.K_n:\n",
    "                N = ~N\n",
    "\n",
    "            if event.type == gr.pygame.KEYDOWN and event.key == gr.pygame.K_m:\n",
    "                M = ~M\n",
    "            if event.type == gr.pygame.KEYDOWN and event.key == gr.pygame.K_TAB:\n",
    "                Legend = ~Legend\n",
    "\n",
    "            draw1()\n",
    "\n",
    "            if l:\n",
    "                for beam in beams:\n",
    "                    if size_q:\n",
    "                        size = (max(np.hstack((beam.q_, 0))) - min(np.hstack((beam.q_, 0)))) / size_q * 100\n",
    "                        draw.draw_loading(beam.q_, beam, 1, draw.RED, draw_size=size)\n",
    "                    if size_n:\n",
    "                        size = (max(beam.n_) - min(beam.n_)) / size_n * 100\n",
    "                        draw.draw_loading(beam.n_, beam, -1, draw.BLACK, draw_size=size)\n",
    "\n",
    "                for sup in supports:\n",
    "                    print(size_F)\n",
    "                    if size_F:\n",
    "                        size = (sup.Fx**2 + sup.Fy**2)/size_F**2\n",
    "                    else:\n",
    "                        size = 0\n",
    "                    draw.draw_boundryloading(sup, size*100, 20)\n",
    "\n",
    "            if u:\n",
    "                for beam in beams:\n",
    "                    size = (max(np.hstack((beam.u, 0))) - min(np.hstack((beam.u, 0))))/size_u * 100\n",
    "                    draw.draw_loading(beam.u, beam, 1, draw.BLUE, draw_size = size)\n",
    "            if w:\n",
    "                for beam in beams:\n",
    "                    size = (max(np.hstack((beam.w, 0))) - min(np.hstack((beam.w, 0))))/size_w * 100\n",
    "                    draw.draw_loading(beam.w, beam, -1, draw.GREEN, draw_size = size)\n",
    "            if N:\n",
    "                for beam in beams:\n",
    "                    size = (max(np.hstack((beam.N, 0))) - min(np.hstack((beam.N, 0))))/size_N * 100\n",
    "                    draw.draw_loading(beam.N, beam, 1, draw.DARKOLIVEGREEN, draw_size = size)\n",
    "            if T:\n",
    "                for beam in beams:\n",
    "                    size = (max(np.hstack((beam.T, 0))) - min(np.hstack((beam.T, 0))))/size_T * 100\n",
    "                    draw.draw_loading(beam.T, beam, -1, draw.LBLUE, draw_size = size)\n",
    "            if M:\n",
    "                for beam in beams:\n",
    "                    size = (max(np.hstack((beam.M, 0))) - min(np.hstack((beam.M, 0))))/size_M * 100\n",
    "                    draw.draw_loading(beam.M, beam, 1, draw.PURPLE, draw_size = size)\n",
    "            if Legend:\n",
    "                draw.legend()\n",
    "        gr.pygame.display.update()"
   ]
  },
  {
   "cell_type": "markdown",
   "metadata": {
    "collapsed": true
   },
   "source": [
    "### References\n",
    "[1] Hibbeler, R. C., Statics, 12th edition, page 313"
   ]
  },
  {
   "cell_type": "code",
   "execution_count": 8,
   "metadata": {},
   "outputs": [
    {
     "data": {
      "text/plain": [
       "200"
      ]
     },
     "execution_count": 8,
     "metadata": {},
     "output_type": "execute_result"
    }
   ],
   "source": [
    "max([200,])"
   ]
  },
  {
   "cell_type": "code",
   "execution_count": null,
   "metadata": {
    "collapsed": true
   },
   "outputs": [],
   "source": []
  }
 ],
 "metadata": {
  "kernelspec": {
   "display_name": "Python 3",
   "language": "python",
   "name": "python3"
  },
  "language_info": {
   "codemirror_mode": {
    "name": "ipython",
    "version": 3
   },
   "file_extension": ".py",
   "mimetype": "text/x-python",
   "name": "python",
   "nbconvert_exporter": "python",
   "pygments_lexer": "ipython3",
   "version": "3.6.3"
  }
 },
 "nbformat": 4,
 "nbformat_minor": 1
}
